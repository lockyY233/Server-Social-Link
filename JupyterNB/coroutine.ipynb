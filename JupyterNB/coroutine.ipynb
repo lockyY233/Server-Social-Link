{
 "cells": [
  {
   "cell_type": "markdown",
   "metadata": {},
   "source": [
    "# Coroutine"
   ]
  },
  {
   "cell_type": "markdown",
   "metadata": {},
   "source": [
    "*since coroutine will be a huge feature that is used throughout this entire bot structure, it is highly recommanded to read through this notebook before you continue to the Pycordbasics*"
   ]
  },
  {
   "cell_type": "markdown",
   "metadata": {},
   "source": [
    "for those who would like a video explanation, please check this one out! this video helped me understand coroutine for the majority part of this bot:\n",
    "\n",
    "**https://www.youtube.com/watch?v=t5Bo1Je9EmE**"
   ]
  },
  {
   "cell_type": "markdown",
   "metadata": {},
   "source": [
    "Ok, lets started. \n",
    "\n",
    "so first, **COROUTINE IS NOT THREADING**, but it is a feature that somewhat simulate threading on a single thread. lets say an example:\n",
    "\n",
    "you want to have two counters counting in different interval at the same time\n",
    "\n",
    "initially, most people will think about the *time.sleep()* method to create the first counter:\n"
   ]
  },
  {
   "cell_type": "code",
   "execution_count": 16,
   "metadata": {},
   "outputs": [
    {
     "name": "stdout",
     "output_type": "stream",
     "text": [
      "counter1: 1s\n",
      "counter1: 2s\n",
      "- counter2: 2s\n",
      "counter1: 3s\n",
      "counter1: 4s\n",
      "- counter2: 4s\n",
      "counter1: 5s\n",
      "counter1: 6s\n",
      "- counter2: 6s\n",
      "counter1: 7s\n",
      "counter1: 8s\n",
      "- counter2: 8s\n",
      "counter1: 9s\n",
      "counter1: 10s\n",
      "- counter2: 10s\n"
     ]
    }
   ],
   "source": [
    "import time\n",
    "\n",
    "# time interval will be 1 per second\n",
    "counter1 = 0 \n",
    "# time interval will be 2 per second\n",
    "counter2 = 0 \n",
    "\n",
    "for t in range(1,11): # start a 10s timer starting from 1\n",
    "    \n",
    "    # counter 1\n",
    "    counter1 += 1 \n",
    "    print(f\"counter1: {counter1}s\")\n",
    "\n",
    "    # counter 2\n",
    "    if (t % 2) == 0:\n",
    "        counter2 += 2\n",
    "        print(f\"- counter2: {counter2}s\")\n",
    "\n",
    "    # more counter may be added here\n",
    "    # ....\n",
    "    \n",
    "    time.sleep(1) # sleep for one second\n"
   ]
  },
  {
   "cell_type": "markdown",
   "metadata": {},
   "source": [
    "above code do its job right. it does contain two counter running at the same time. however, we do not have controls over:\n",
    "- how many counters we can have\n",
    "- how long the interval we can have\n",
    "\n",
    "on top of that, when we sleep with time.sleep(), EVERYTHING IS BLOCKED OUT\n",
    "\n",
    "here is where coroutine comes in. In python, asyncio is the built-in library providing all the tools."
   ]
  },
  {
   "cell_type": "markdown",
   "metadata": {},
   "source": [
    "# async/await"
   ]
  },
  {
   "cell_type": "markdown",
   "metadata": {},
   "source": [
    "coroutine simulating multithreading by using a loop which manage every task it recieve. Each cycle of a loop, it will process one step of one or multiple tasks. You can also decide if one task takes priority over others."
   ]
  },
  {
   "cell_type": "markdown",
   "metadata": {},
   "source": [
    "lets recreate the above counters using asyncio:"
   ]
  },
  {
   "cell_type": "code",
   "execution_count": 42,
   "metadata": {},
   "outputs": [
    {
     "name": "stdout",
     "output_type": "stream",
     "text": [
      "1 - counter: 0\n",
      "2 - counter: 0\n",
      "1 - counter: 1\n",
      "2 - counter: 2\n",
      "1 - counter: 2\n",
      "1 - counter: 3\n",
      "2 - counter: 4\n",
      "1 - counter: 4\n",
      "1 - counter: 5\n",
      "2 - counter: 6\n",
      "1 - counter: 6\n",
      "1 - counter: 7\n",
      "2 - counter: 8\n",
      "1 - counter: 8\n",
      "1 - counter: 9\n"
     ]
    }
   ],
   "source": [
    "import asyncio\n",
    "\n",
    "# declare counters\n",
    "counter1 = 0\n",
    "counter2 = 0\n",
    "\n",
    "# counter coroutine \n",
    "async def counter(interval, counter):\n",
    "    # for loop for each counters\n",
    "    for time in range(round(10/interval)):\n",
    "        print(f\"{interval} - counter: {counter}\")\n",
    "        counter += interval\n",
    "        # asyncio.sleep() insdead of time.sleep()\n",
    "        await asyncio.sleep(interval)\n",
    "\n",
    "async def main():\n",
    "    # you can add more counters by appending this tuple\n",
    "    counter_group = (counter(1, counter1), counter(2, counter2))\n",
    "\n",
    "    # asyncio.gather() allows two coroutine object to run concurrently\n",
    "    await asyncio.gather(*counter_group)\n",
    "\n",
    "await main()"
   ]
  },
  {
   "cell_type": "markdown",
   "metadata": {},
   "source": [
    "for the above code, it does similar job as the one without using time.sleep(), but first of all, adding counters is not redundant anymore. In addition, replacing time.sleep() with asyncio.sleep() means the program is not stopped by one line of code."
   ]
  },
  {
   "cell_type": "markdown",
   "metadata": {},
   "source": [
    "One important rule to remember: you must declare a function async in order to use await keyword, but you do not need an await statement to declare an async function."
   ]
  }
 ],
 "metadata": {
  "kernelspec": {
   "display_name": "Python 3.9.13 64-bit (microsoft store)",
   "language": "python",
   "name": "python3"
  },
  "language_info": {
   "codemirror_mode": {
    "name": "ipython",
    "version": 3
   },
   "file_extension": ".py",
   "mimetype": "text/x-python",
   "name": "python",
   "nbconvert_exporter": "python",
   "pygments_lexer": "ipython3",
   "version": "3.9.13"
  },
  "orig_nbformat": 4,
  "vscode": {
   "interpreter": {
    "hash": "5cd9c1505e63a0361e04f3a0bbc979579753f228970dcdb355381a9fcc87dbb0"
   }
  }
 },
 "nbformat": 4,
 "nbformat_minor": 2
}
