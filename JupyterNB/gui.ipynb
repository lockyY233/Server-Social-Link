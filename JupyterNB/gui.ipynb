{
 "cells": [
  {
   "cell_type": "markdown",
   "metadata": {},
   "source": [
    "# PySimpleGUI"
   ]
  },
  {
   "cell_type": "markdown",
   "metadata": {},
   "source": [
    "Python simple gui is a wrapper library for tkinter. it simplified some tedious process for simple tasks. Since I dont need advanced UI design, it is reasonable to use python simple gui to design gui for this bot\n"
   ]
  },
  {
   "cell_type": "markdown",
   "metadata": {},
   "source": [
    "the following is an example of pysimplegui integrated with asyncio and aiojobs, which is how the bot is currently structured."
   ]
  },
  {
   "cell_type": "markdown",
   "metadata": {},
   "source": [
    "few important thing to note:\n",
    "- while loop inside the gui function, can utilize scheduler.spawn() to run it concurrently along other tasks\n",
    "- for this code, event is passed in order to control closing jobs and break out of the loop inside gui()\n",
    "- somehow in the actual bot, that (timeout=1) inside window.read() is a must or it will block out the while loop and the entire event loop"
   ]
  },
  {
   "cell_type": "code",
   "execution_count": 6,
   "metadata": {},
   "outputs": [],
   "source": [
    "import PySimpleGUI as sg\n",
    "import asyncio\n",
    "import aiojobs\n",
    "\n",
    "# -- create layout and window for pysimplegui\n",
    "layout = [\n",
    "    [sg.Text(\"This is a discord bot\")],\n",
    "    [sg.Button(\"Shut Down\")]\n",
    "]\n",
    "window = sg.Window(title=\"SlinkBot\", layout= layout)\n",
    "\n",
    "# -- asncio loop to read event\n",
    "async def gui(event):\n",
    "    while True:\n",
    "        event, values = window.read(timeout=1)\n",
    "        if event == \"Shut Down\" or event == sg.WIN_CLOSED:\n",
    "            break\n",
    "\n",
    "# -- main() create the global scheduler, event to pass in, and controlling spawn job and close job\n",
    "async def main():\n",
    "    scheduler = await aiojobs.create_scheduler()\n",
    "    global job\n",
    "    event = None\n",
    "    sg.easy_print(layout)\n",
    "    job = await scheduler.spawn(gui(event))\n",
    "    await job.wait()\n",
    "    if event == \"Shut Down\" or event == sg.WIN_CLOSED:\n",
    "        await job.close()\n",
    "        window.close()\n",
    "\n",
    "await main()"
   ]
  }
 ],
 "metadata": {
  "kernelspec": {
   "display_name": "Python 3.9.13 64-bit (microsoft store)",
   "language": "python",
   "name": "python3"
  },
  "language_info": {
   "codemirror_mode": {
    "name": "ipython",
    "version": 3
   },
   "file_extension": ".py",
   "mimetype": "text/x-python",
   "name": "python",
   "nbconvert_exporter": "python",
   "pygments_lexer": "ipython3",
   "version": "3.9.13"
  },
  "orig_nbformat": 4,
  "vscode": {
   "interpreter": {
    "hash": "5cd9c1505e63a0361e04f3a0bbc979579753f228970dcdb355381a9fcc87dbb0"
   }
  }
 },
 "nbformat": 4,
 "nbformat_minor": 2
}
