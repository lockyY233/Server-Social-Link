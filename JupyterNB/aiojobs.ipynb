{
 "cells": [
  {
   "cell_type": "markdown",
   "metadata": {},
   "source": [
    "# aiojobs"
   ]
  },
  {
   "cell_type": "markdown",
   "metadata": {},
   "source": [
    "Since it is difficult to control the running event loop for the ayncio, it is almost impossible to schedule multiple task at the same time without complicated coiding. \n",
    "\n",
    "Now this is where aiojobs comes in. without have to go into low-level understanding of coroutine, aiojobs provide few functions easily solve these problems."
   ]
  },
  {
   "cell_type": "markdown",
   "metadata": {},
   "source": [
    "*pip install aiojobs*"
   ]
  },
  {
   "cell_type": "markdown",
   "metadata": {},
   "source": [
    "aiojobs allow for easy concurrency inside coroutine. In this code example, 10 individual task will be running at the same time given to their own time to sleep."
   ]
  },
  {
   "cell_type": "code",
   "execution_count": null,
   "metadata": {},
   "outputs": [],
   "source": [
    "import asyncio\n",
    "import aiojobs\n",
    "\n",
    "async def sleepfor(seconds):\n",
    "  await asyncio.sleep(seconds)\n",
    "  print(f\"{seconds=}\")\n",
    "\n",
    "async def main():\n",
    "  scheduler = await aiojobs.create_scheduler()\n",
    "  for second in range(10):\n",
    "    task = await scheduler.spawn(sleepfor(second))\n",
    "  await task.wait()\n",
    "  print(\"done\")\n",
    "\n",
    "await main()\n",
    "# inside jupyter, you dont have to run asyncio.run() to run coroutine\n",
    "# since jupyter is running in coroutine anyway"
   ]
  },
  {
   "cell_type": "markdown",
   "metadata": {},
   "source": [
    "For this bot, aiojobs is heavily utilized in SlinkBot.py and Social_Link_Handler.py\n",
    "\n",
    "scheduler is a class that can manage all tasks created \n",
    "\n",
    "for this bot, sceduler is defined in *on_ready()* method inside SlinkBot.py. scheduler can run all scheduled task from lvling_loop concurrently inside Social_Link_Handler.py"
   ]
  },
  {
   "cell_type": "markdown",
   "metadata": {},
   "source": [
    "# flexibility"
   ]
  },
  {
   "cell_type": "markdown",
   "metadata": {},
   "source": [
    "aiojobs provides a huge flexibility about creating tasks(or jobs). In the following example, I called scheduler.spawn() within another scheduler.spawn() under the same scheduler. It basically provides simple solution to a huge complicate issue of the voice leveling system within this bot."
   ]
  },
  {
   "cell_type": "code",
   "execution_count": null,
   "metadata": {},
   "outputs": [],
   "source": [
    "import aiojobs\n",
    "import asyncio\n",
    "    \n",
    "async def counter(scheduler, seconds, index):\n",
    "    for second in range(seconds):\n",
    "        task = await scheduler.spawn(counter_sleep(second, index))# spawn inside another spawn\n",
    "    await task.wait()\n",
    "\n",
    "async def counter_sleep(seconds, index):\n",
    "    await asyncio.sleep(seconds)\n",
    "    print(f\"{index}: count: {seconds}\")\n",
    "\n",
    "async def main():\n",
    "    scheduler = await aiojobs.create_scheduler()\n",
    "\n",
    "    task = await scheduler.spawn(counter(scheduler, 3, 1))# trigger the loop\n",
    "    task = await scheduler.spawn(counter(scheduler, 5, 2))\n",
    "\n",
    "await main()"
   ]
  },
  {
   "cell_type": "markdown",
   "metadata": {},
   "source": [
    "# Leveling system using aiojobs"
   ]
  },
  {
   "cell_type": "markdown",
   "metadata": {},
   "source": [
    "this bot is using aiojobs to calculate the leveling for each person inside a voice call.\n",
    "since the leveling is so complicated, I will try to explain the best I can about the following code.\n",
    "\n",
    "first, lets see why the leveling system need coroutine:\n",
    "- when everyone inside a voice call, leveling up is a time problem.\n",
    "- when everyone inside the voice call has different stats on their level, it will be difficult to track all timer.\n",
    "- when someone leave the vc, stop the timer for that individual instead of everyone\n",
    "\n",
    "in order to do those, multitasking will be perfect to manage, thus coroutine is the solution. \n",
    "\n",
    "there is also going to be a few scenerio need to consider:\n",
    "- level up when someone join a vc with 1 or more people inside the vc\n",
    "- when someone leave vc with 1 or more people inside the vc before level up\n",
    "- level up when someone inside a vc\n",
    "\n",
    "keep those problems in mind, now we can start looking at the code structure:\n",
    "- conn_line object records all necessary information about each two pairs inside a voice call\n",
    "- whenever a person join a vc, create conn_line object and automatically start the timer between each two pair of person inside a vocie call(can be done by double for looping, can be seen in join_vc_handler() in SlinkBot.py)\n",
    "- the timer convert the xp each persona have into the time require to level up and run it through asyncio.sleep()\n",
    "- once the timer reached, triggers the level up, and restart the cycle\n",
    "- if the user leave before the timer is up, return the time.time() and subtract with the time when conn_line object created\n",
    "\n",
    "where aiojobs come in is when the timer and the sleep system comes in. I need to develop a sytem where:\n",
    "- asyncio.sleep() inside a while loop where the loop need to be awaiting task to finish. \n",
    "- the while loop can be turn off anytime\n",
    "- while loop and any other coroutine need to be running concurrently\n",
    "\n",
    "Finally, we can look at the code below:\n",
    "- two functions label under counter are solely for debug purposes. it helps you see how long the time has passed since the code run\n",
    "- global variable switch can break the while loop anytime\n",
    "- loop body contains the while loop and it will keep spawning loop_coro every 5 second. until the switch turned off\n",
    "- task.wait() inside the while loop means the while loop will not proceed until the task is finish\n",
    "- since it is possible to spawn task within spawn(), you can spawn two jobs running the while loop concurrently."
   ]
  },
  {
   "cell_type": "code",
   "execution_count": 5,
   "metadata": {},
   "outputs": [
    {
     "name": "stdout",
     "output_type": "stream",
     "text": [
      "coutner: 0\n",
      "coutner: 1\n",
      "coutner: 2\n",
      "2: loop: 0\n",
      "coutner: 3\n",
      "coutner: 4\n",
      "2: loop: 2\n",
      "coutner: 5\n",
      "5: loop: 0\n",
      "coutner: 6\n",
      "2: loop: 4\n",
      "switch off\n",
      "coutner: 7\n",
      "coutner: 8\n",
      "2: loop: 6\n",
      "loop break\n",
      "coutner: 9\n",
      "coutner: 10\n",
      "5: loop: 5\n",
      "loop break\n",
      "coutner: 11\n",
      "coutner: 12\n",
      "coutner: 13\n",
      "coutner: 14\n",
      "coutner: 15\n",
      "coutner: 16\n",
      "coutner: 17\n",
      "coutner: 18\n",
      "coutner: 19\n"
     ]
    }
   ],
   "source": [
    "\n",
    "import asyncio\n",
    "import aiojobs\n",
    "\n",
    "switch = True\n",
    "\n",
    "#-- counter for debug purpose\n",
    "async def counter1(scheduler, seconds):\n",
    "    for second in range(seconds):\n",
    "        task = await scheduler.spawn(counter1_sleep(second))\n",
    "    await task.wait()\n",
    "\n",
    "async def counter1_sleep(seconds):\n",
    "    await asyncio.sleep(seconds)\n",
    "    print(f\"coutner: {seconds}\")\n",
    "\n",
    "#-- loop\n",
    "async def loop_coro(seconds, mult):\n",
    "    await asyncio.sleep(mult)\n",
    "    print(f\"{mult}: loop: {seconds*mult}\")\n",
    "\n",
    "async def loop(scheduler, mult):\n",
    "    num = 0\n",
    "    global switch\n",
    "    while switch == True:\n",
    "        task = await scheduler.spawn(loop_coro(num, mult))\n",
    "        await task.wait()\n",
    "        num+=1\n",
    "        if num >= 5:\n",
    "            break\n",
    "        if switch == False:\n",
    "            print(\"loop break\")\n",
    "            break\n",
    "\n",
    "async def switchOff():\n",
    "    global switch\n",
    "    await asyncio.sleep(7)\n",
    "    switch = False\n",
    "    print(\"switch off\")\n",
    "\n",
    "async def main():\n",
    "    scheduler = await aiojobs.create_scheduler()\n",
    "\n",
    "    task = await scheduler.spawn(counter1(scheduler, 20))\n",
    "    lp_switch = await scheduler.spawn(switchOff())\n",
    "    lp = await scheduler.spawn(loop(scheduler, 5))\n",
    "    lp2 = await scheduler.spawn(loop(scheduler, 2))\n",
    "\n",
    "await main()"
   ]
  }
 ],
 "metadata": {
  "kernelspec": {
   "display_name": "Python 3.9.13 64-bit (microsoft store)",
   "language": "python",
   "name": "python3"
  },
  "language_info": {
   "codemirror_mode": {
    "name": "ipython",
    "version": 3
   },
   "file_extension": ".py",
   "mimetype": "text/x-python",
   "name": "python",
   "nbconvert_exporter": "python",
   "pygments_lexer": "ipython3",
   "version": "3.9.13"
  },
  "orig_nbformat": 4,
  "vscode": {
   "interpreter": {
    "hash": "5cd9c1505e63a0361e04f3a0bbc979579753f228970dcdb355381a9fcc87dbb0"
   }
  }
 },
 "nbformat": 4,
 "nbformat_minor": 2
}
