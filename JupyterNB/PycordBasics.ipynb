{
 "cells": [
  {
   "cell_type": "markdown",
   "metadata": {},
   "source": [
    "# Intro"
   ]
  },
  {
   "cell_type": "markdown",
   "metadata": {},
   "source": [
    "For this bot, I(locky) will be using pycord as the library. Pycord is a fork of discord.py, which got discontinued.\n",
    "\n",
    "pycord also simpliefied the process to create slash command, which was complicated with discord.py\n",
    "\n",
    "If you have discord.py installed, make sure you have it uninstall first:"
   ]
  },
  {
   "cell_type": "markdown",
   "metadata": {},
   "source": [
    "*pip uninstall discord.py*\n",
    "\n",
    "*pip install pycord*"
   ]
  },
  {
   "cell_type": "markdown",
   "metadata": {},
   "source": [
    "So here is an example of a bot structure using pycord:"
   ]
  },
  {
   "cell_type": "code",
   "execution_count": null,
   "metadata": {},
   "outputs": [],
   "source": [
    "import discord\n",
    "\n",
    "intent = discord.Intents.all()\n",
    "bot = discord.Bot(debug_guilds=['''guild id for debug'''], intents=intent)\n",
    "# declaring intent allows the bot to read chat and other special permissions\n",
    "\n",
    "# slash command decorator allows you to define a function which runs when user type\n",
    "# in the slash command inside discord\n",
    "@bot.slash_command(name = \"help\", description = \"help command or you die\")\n",
    "# note that name of a command MUST be all lowercase\n",
    "async def help(ctx): \n",
    "    # this function must be an coroutine, since all of them are called asynchronously\n",
    "    '''\n",
    "    ctx is the object that refers to the slash command text from discord\n",
    "    ctx recording:\n",
    "    - the user who sent the command\n",
    "    - the text user sent\n",
    "    - the guild(discord server) information\n",
    "    '''\n",
    "    pass\n",
    "\n",
    "bot.run(\"token\")\n",
    "# run the bot with the token you are given"
   ]
  },
  {
   "cell_type": "markdown",
   "metadata": {},
   "source": [
    "# Member"
   ]
  },
  {
   "cell_type": "markdown",
   "metadata": {},
   "source": [
    "member class has many useful attributes that are used in this bot.\n",
    "However, it is kinda confusing if you just learn it. so here is how this member structure:\n",
    "\n",
    "lets say my discord name for example: locky_Y#0069\n",
    "\n",
    " - the \"locky_Y\" before the # is display_name attribute\n",
    " - the 4 digit number after # is discriminator\n",
    " - member.id will be the easiest way to identify user, in my case it will be : 383450239865978891\n",
    "\n",
    "to tag someone with the bot ctx.send() method, you need to use id instead of the name and discriminator like we do in discord. On top of the id, you need to format the id this way:\n",
    "\n",
    "*<@!xxxxxxxxxxxx>*\n",
    "\n",
    "here is an example of how to assemble the code together to tag someone:"
   ]
  },
  {
   "cell_type": "code",
   "execution_count": null,
   "metadata": {},
   "outputs": [],
   "source": [
    "tag_user = '<@!' + str(ctx.author.id) + '>'\n",
    "await ctx.channel.send(tag_user + \"whatever text to send\")"
   ]
  },
  {
   "cell_type": "markdown",
   "metadata": {},
   "source": [
    "# Embed"
   ]
  },
  {
   "cell_type": "markdown",
   "metadata": {},
   "source": [
    "Embed is a formatting tool to display a blob of information. example as shown below: "
   ]
  },
  {
   "cell_type": "markdown",
   "metadata": {},
   "source": [
    "![embed](img/embede_example.png)"
   ]
  },
  {
   "cell_type": "markdown",
   "metadata": {},
   "source": [
    "or this:"
   ]
  },
  {
   "cell_type": "markdown",
   "metadata": {},
   "source": [
    "![embed2](img/embed2.png)"
   ]
  },
  {
   "cell_type": "markdown",
   "metadata": {},
   "source": [
    "embed can be like markdown text but it has its own format. one of the easiet way is to create a dictionary using the template which can be found in *Embed_Library.py* and fills out/delete all blocks you need\n",
    "\n",
    "**WARNING: ** if you leave any values as None or empty string, error will be raised\n",
    "examples of embed dictionaries can also be found in Embed_Library.py\n",
    "\n",
    "now when you finish the dictionary, you can use the discord.Embed.from_dict() to convert the dictionary into an embed object. to send it out, you can use the embed= inside ctx.send() method.\n",
    "\n",
    "an example:"
   ]
  },
  {
   "cell_type": "code",
   "execution_count": null,
   "metadata": {},
   "outputs": [],
   "source": [
    "Embed = discord.Embed.from_dict(\"\"\"embed dictionary here\"\"\")\n",
    "await ctx.send(embed=Embed)"
   ]
  },
  {
   "cell_type": "markdown",
   "metadata": {},
   "source": [
    "# on_message and on_voice_state_update"
   ]
  },
  {
   "cell_type": "markdown",
   "metadata": {},
   "source": [
    "*on_message* and ohter *on_* methods are called as soon as certain actions occured.\n",
    "\n",
    "*on_message* triggers when a user send a message in any discord server, it will pass in message object as the parameter. you can get the author or content of the message using its attributes.\n",
    "\n",
    "as for this bot, *on_message* and *on_voice_state_update* can be found in SlinkBot.py"
   ]
  },
  {
   "cell_type": "markdown",
   "metadata": {},
   "source": [
    "*on_voice_state_update* triggers when a following event happens:\n",
    "- join vc\n",
    "- leave vc\n",
    "- mute/unmute\n",
    "- deafen/undeafen\n",
    "- start stream/end stream\n",
    "\n",
    "it will pass in 3 parameters: member, before, and after\n",
    "member is a member class explained above,\n",
    "before and after are an object of VoiceState class, recording the state of the user before and after the action.\n",
    "\n",
    "to detect if a user join, you can utilize the channel attribute from the before/after:\n",
    "if user join a vc, before.channel will be None, and after.channel will contain the channel inofrmation which user joins.\n",
    "\n",
    "if the user leave, after.channel will be empty\n",
    "\n",
    "*is_join_vc()* will be declared at Social_Link_Handler:"
   ]
  },
  {
   "cell_type": "code",
   "execution_count": null,
   "metadata": {},
   "outputs": [],
   "source": [
    "# check if user is join/leave vc (but not muted/deafen)\n",
    "def is_join_vc(before, after):\n",
    "    # return true if join vc, false if left\n",
    "    if before.channel == None and after.channel != None:\n",
    "        return True\n",
    "    elif before.channel != None and after.channel == None:\n",
    "        return False"
   ]
  }
 ],
 "metadata": {
  "kernelspec": {
   "display_name": "Python 3.9.13 64-bit (microsoft store)",
   "language": "python",
   "name": "python3"
  },
  "language_info": {
   "name": "python",
   "version": "3.9.13"
  },
  "orig_nbformat": 4,
  "vscode": {
   "interpreter": {
    "hash": "5cd9c1505e63a0361e04f3a0bbc979579753f228970dcdb355381a9fcc87dbb0"
   }
  }
 },
 "nbformat": 4,
 "nbformat_minor": 2
}
