{
 "cells": [
  {
   "cell_type": "markdown",
   "metadata": {},
   "source": [
    "# math for the leveling system"
   ]
  },
  {
   "cell_type": "markdown",
   "metadata": {},
   "source": [
    "copyt this to desmo to show graph:\n",
    "\n",
    "y=\\frac{300}{1+e^{-.7(.07x-7)}}"
   ]
  },
  {
   "cell_type": "markdown",
   "metadata": {},
   "source": [
    "following scrypt will output a list of level and xp needed to levelup"
   ]
  },
  {
   "cell_type": "code",
   "execution_count": 1,
   "metadata": {},
   "outputs": [
    {
     "name": "stdout",
     "output_type": "stream",
     "text": [
      "1: 4\n",
      "2: 5\n",
      "3: 5\n",
      "4: 5\n",
      "5: 5\n",
      "6: 6\n",
      "7: 6\n",
      "8: 6\n",
      "9: 7\n",
      "10: 7\n",
      "11: 7\n",
      "12: 8\n",
      "13: 8\n",
      "14: 8\n",
      "15: 9\n",
      "16: 9\n",
      "17: 10\n",
      "18: 10\n",
      "19: 10\n",
      "20: 11\n",
      "21: 12\n",
      "22: 12\n",
      "23: 13\n",
      "24: 13\n",
      "25: 14\n",
      "26: 15\n",
      "27: 15\n",
      "28: 16\n",
      "29: 17\n",
      "30: 18\n",
      "31: 18\n",
      "32: 19\n",
      "33: 20\n",
      "34: 21\n",
      "35: 22\n",
      "36: 23\n",
      "37: 24\n",
      "38: 25\n",
      "39: 26\n",
      "40: 28\n",
      "41: 29\n",
      "42: 30\n",
      "43: 32\n",
      "44: 33\n",
      "45: 34\n",
      "46: 36\n",
      "47: 37\n",
      "48: 39\n",
      "49: 41\n",
      "50: 43\n",
      "51: 44\n",
      "52: 46\n",
      "53: 48\n",
      "54: 50\n",
      "55: 52\n",
      "56: 55\n",
      "57: 57\n",
      "58: 59\n",
      "59: 61\n",
      "60: 64\n",
      "61: 66\n",
      "62: 69\n",
      "63: 71\n",
      "64: 74\n",
      "65: 77\n",
      "66: 80\n",
      "67: 83\n",
      "68: 86\n",
      "69: 89\n",
      "70: 92\n",
      "71: 95\n",
      "72: 98\n",
      "73: 101\n",
      "74: 105\n",
      "75: 108\n",
      "76: 112\n",
      "77: 115\n",
      "78: 118\n",
      "79: 122\n",
      "80: 126\n",
      "81: 129\n",
      "82: 133\n",
      "83: 136\n",
      "84: 140\n",
      "85: 144\n",
      "86: 147\n",
      "87: 151\n",
      "88: 155\n",
      "89: 158\n",
      "90: 162\n",
      "91: 166\n",
      "92: 169\n",
      "93: 173\n",
      "94: 176\n",
      "95: 180\n",
      "96: 184\n",
      "97: 187\n",
      "98: 190\n",
      "99: 194\n",
      "100: 197\n",
      "101: 200\n",
      "102: 204\n",
      "103: 207\n",
      "104: 210\n",
      "105: 213\n",
      "106: 216\n",
      "107: 219\n",
      "108: 222\n",
      "109: 225\n",
      "110: 227\n",
      "111: 230\n",
      "112: 233\n",
      "113: 235\n",
      "114: 238\n",
      "115: 240\n",
      "116: 242\n",
      "117: 245\n",
      "118: 247\n",
      "119: 249\n",
      "120: 251\n",
      "121: 253\n",
      "122: 255\n",
      "123: 257\n",
      "124: 258\n",
      "125: 260\n",
      "126: 262\n",
      "127: 263\n",
      "128: 265\n",
      "129: 266\n",
      "130: 268\n"
     ]
    }
   ],
   "source": [
    "import math\n",
    "\n",
    "def xp_sys(x):\n",
    "  y = 300/(1+math.exp(-0.7*(7/100*x-6)))\n",
    "  return round(y)\n",
    "\n",
    "for x in range(130):\n",
    "  print(f\"{x+1}: {xp_sys(x)}\")"
   ]
  },
  {
   "cell_type": "code",
   "execution_count": 4,
   "metadata": {},
   "outputs": [
    {
     "name": "stdout",
     "output_type": "stream",
     "text": [
      "0: 0\n",
      "1: 0\n",
      "2: 1\n",
      "3: 3\n",
      "4: 6\n",
      "5: 10\n",
      "6: 15\n",
      "7: 21\n",
      "8: 28\n",
      "9: 36\n",
      "10: 45\n"
     ]
    }
   ],
   "source": [
    "for n in range(11):\n",
    "    # n represent the number of people inside a vc\n",
    "    print(f\"{n}: {round(n*(n-3)/2 + n)}\")"
   ]
  },
  {
   "cell_type": "code",
   "execution_count": 26,
   "metadata": {},
   "outputs": [
    {
     "name": "stdout",
     "output_type": "stream",
     "text": [
      "[('a', [0, 2]), ('c', [3, 8]), ('d', [5, 3]), ('b', [7, 1])]\n",
      "{'a': [0, 2], 'c': [3, 8], 'd': [5, 3], 'b': [7, 1]}\n"
     ]
    }
   ],
   "source": [
    "# sorting dictionaries by its value: \n",
    "\n",
    "dict1 = {'a': [0,2], 'd': [5,3], 'c': [3,8], 'b': [7,1]}\n",
    "sorted_tuples = sorted(dict1.items(), key=lambda item: item[1][0])\n",
    "print(sorted_tuples)  # [(1, 1), (3, 4), (2, 9)]\n",
    "sorted_dict = {k: v for k, v in sorted_tuples}\n",
    "\n",
    "print(sorted_dict) # {1: 1, 3: 4, 2: 9}"
   ]
  },
  {
   "cell_type": "code",
   "execution_count": 34,
   "metadata": {},
   "outputs": [
    {
     "name": "stdout",
     "output_type": "stream",
     "text": [
      "24\n",
      "25\n",
      "26\n"
     ]
    }
   ],
   "source": [
    "pagenum = 4\n",
    "element_per_page = 6\n",
    "\n",
    "for i in range(element_per_page*pagenum, max(0, min(element_per_page*(pagenum+1), 27))):\n",
    "    print(i)"
   ]
  },
  {
   "cell_type": "code",
   "execution_count": 55,
   "metadata": {},
   "outputs": [
    {
     "ename": "TypeError",
     "evalue": "wrap1() takes 1 positional argument but 2 were given",
     "output_type": "error",
     "traceback": [
      "\u001b[1;31m---------------------------------------------------------------------------\u001b[0m",
      "\u001b[1;31mTypeError\u001b[0m                                 Traceback (most recent call last)",
      "Cell \u001b[1;32mIn [55], line 17\u001b[0m\n\u001b[0;32m     13\u001b[0m \u001b[38;5;129m@dec2\u001b[39m\n\u001b[0;32m     14\u001b[0m \u001b[38;5;28;01mdef\u001b[39;00m \u001b[38;5;21mf\u001b[39m(a, b):\n\u001b[0;32m     15\u001b[0m     \u001b[38;5;28mprint\u001b[39m(\u001b[38;5;124mf\u001b[39m\u001b[38;5;124m'\u001b[39m\u001b[38;5;124mthe addition between \u001b[39m\u001b[38;5;132;01m{\u001b[39;00ma\u001b[38;5;132;01m}\u001b[39;00m\u001b[38;5;124m and \u001b[39m\u001b[38;5;132;01m{\u001b[39;00mb\u001b[38;5;132;01m}\u001b[39;00m\u001b[38;5;124m is \u001b[39m\u001b[38;5;132;01m{\u001b[39;00ma\u001b[38;5;241m+\u001b[39mb\u001b[38;5;132;01m}\u001b[39;00m\u001b[38;5;124m'\u001b[39m)\n\u001b[1;32m---> 17\u001b[0m f(\u001b[38;5;241m2\u001b[39m,\u001b[38;5;241m3\u001b[39m)\n",
      "\u001b[1;31mTypeError\u001b[0m: wrap1() takes 1 positional argument but 2 were given"
     ]
    }
   ],
   "source": [
    "def dec1(*args, **kwargs):\n",
    "    def wrap1(func):\n",
    "        print(f'dec1:')\n",
    "        return func\n",
    "    return wrap1\n",
    "\n",
    "def dec2(func):\n",
    "    @dec1\n",
    "    def wrap2(*args, **kwargs):\n",
    "        print(f'dec2:')\n",
    "    return wrap2\n",
    "\n",
    "@dec2\n",
    "def f(a, b):\n",
    "    print(f'the addition between {a} and {b} is {a+b}')\n",
    "\n",
    "f(2,3)"
   ]
  }
 ],
 "metadata": {
  "kernelspec": {
   "display_name": "Python 3.9.13 64-bit (microsoft store)",
   "language": "python",
   "name": "python3"
  },
  "language_info": {
   "codemirror_mode": {
    "name": "ipython",
    "version": 3
   },
   "file_extension": ".py",
   "mimetype": "text/x-python",
   "name": "python",
   "nbconvert_exporter": "python",
   "pygments_lexer": "ipython3",
   "version": "3.9.13"
  },
  "orig_nbformat": 4,
  "vscode": {
   "interpreter": {
    "hash": "5cd9c1505e63a0361e04f3a0bbc979579753f228970dcdb355381a9fcc87dbb0"
   }
  }
 },
 "nbformat": 4,
 "nbformat_minor": 2
}
